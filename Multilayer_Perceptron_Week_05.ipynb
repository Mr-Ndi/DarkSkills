{
  "nbformat": 4,
  "nbformat_minor": 0,
  "metadata": {
    "colab": {
      "provenance": [],
      "collapsed_sections": [
        "LssVahhK90Rn",
        "mbhTYRu4HZNf",
        "m5Mb-7D2KSeU",
        "ZGjzutLmKYWT"
      ],
      "authorship_tag": "ABX9TyMdagXADM1E8sT9RL5DRngl",
      "include_colab_link": true
    },
    "kernelspec": {
      "name": "python3",
      "display_name": "Python 3"
    },
    "language_info": {
      "name": "python"
    }
  },
  "cells": [
    {
      "cell_type": "markdown",
      "metadata": {
        "id": "view-in-github",
        "colab_type": "text"
      },
      "source": [
        "<a href=\"https://colab.research.google.com/github/Mr-Ndi/DarkSkills/blob/main/Multilayer_Perceptron_Week_05.ipynb\" target=\"_parent\"><img src=\"https://colab.research.google.com/assets/colab-badge.svg\" alt=\"Open In Colab\"/></a>"
      ]
    },
    {
      "cell_type": "markdown",
      "source": [
        "# Training an MLP on MNIST with NumPy"
      ],
      "metadata": {
        "id": "TljF7zpM9Wd0"
      }
    },
    {
      "cell_type": "markdown",
      "source": [
        "## Section1 Train-Validation-Test"
      ],
      "metadata": {
        "id": "LssVahhK90Rn"
      }
    },
    {
      "cell_type": "markdown",
      "source": [
        "###  2.Load and Prepare the Dataset"
      ],
      "metadata": {
        "id": "g_xB-bIq-Lph"
      }
    },
    {
      "cell_type": "code",
      "source": [
        "import numpy as np\n",
        "from sklearn.datasets import fetch_openml\n",
        "\n",
        "X, y = fetch_openml('mnist_784', version=1, return_X_y=True)\n",
        "\n",
        "X = X.values # This returns the array values\n",
        "y = y.astype(int).values # This returns the array values"
      ],
      "metadata": {
        "id": "FT09JTTO94lZ"
      },
      "execution_count": 11,
      "outputs": []
    },
    {
      "cell_type": "markdown",
      "source": [
        "#### Preprocessing: Normalize the data\n"
      ],
      "metadata": {
        "id": "TkM_xe5K-SMd"
      }
    },
    {
      "cell_type": "code",
      "source": [
        "X = ((X / 255.) - .5) * 2"
      ],
      "metadata": {
        "id": "UBtBjU8p-Veq"
      },
      "execution_count": 2,
      "outputs": []
    },
    {
      "cell_type": "markdown",
      "source": [
        "#### Visualize sample digits"
      ],
      "metadata": {
        "id": "69nqlGbd-Wi_"
      }
    },
    {
      "cell_type": "code",
      "source": [
        "import matplotlib.pyplot as plt\n",
        "\n",
        "fig, ax = plt.subplots(nrows=2, ncols=5, sharex=True, sharey=True)\n",
        "\n",
        "ax = ax.flatten()\n",
        "for i in range(10):\n",
        "    img = X[y == i][0].reshape(28, 28)\n",
        "    ax[i].imshow(img, cmap='Greys')\n",
        "ax[0].set_xticks([])\n",
        "ax[0].set_yticks([])\n",
        "plt.tight_layout()\n",
        "plt.show()"
      ],
      "metadata": {
        "colab": {
          "base_uri": "https://localhost:8080/",
          "height": 338
        },
        "id": "nv8rTvTD-ZgS",
        "outputId": "ad236d91-6f8b-40c4-9832-b48d166bffc3"
      },
      "execution_count": 3,
      "outputs": [
        {
          "output_type": "display_data",
          "data": {
            "text/plain": [
              "<Figure size 640x480 with 10 Axes>"
            ],
            "image/png": "[encoded data removed]"
          },
          "metadata": {}
        }
      ]
    },
    {
      "cell_type": "markdown",
      "source": [
        "###2. Train-Validation-Test Split"
      ],
      "metadata": {
        "id": "Jw1kXmny-7PU"
      }
    },
    {
      "cell_type": "markdown",
      "source": [],
      "metadata": {
        "id": "-YYBcaJwHgW2"
      }
    },
    {
      "cell_type": "code",
      "source": [
        "from sklearn.model_selection import train_test_split\n",
        "# Splits:\n",
        "# - 60k train+valid, 10k test\n",
        "# - 55k train, 5k valid\n",
        "X_train, X_test, y_train, y_test = train_test_split(X, y, test_size=10000, random_state=123)\n",
        "X_train, X_valid, y_train, y_valid = train_test_split(X_train, y_train, test_size=5000, random_state=123)"
      ],
      "metadata": {
        "id": "fVohvEuNE84B"
      },
      "execution_count": 9,
      "outputs": []
    },
    {
      "cell_type": "markdown",
      "source": [
        "##3. Create Mini-batches"
      ],
      "metadata": {
        "id": "mbhTYRu4HZNf"
      }
    },
    {
      "cell_type": "code",
      "source": [
        "def minibatch_generator(X, y, minibatch_size):\n",
        "    indices = np.arange(X.shape[0])\n",
        "    np.random.shuffle(indices)\n",
        "    for start_idx in range(0, indices.shape[0] - minibatch_size + 1, minibatch_size):\n",
        "        batch_idx = indices[start_idx:start_idx + minibatch_size]\n",
        "        yield X[batch_idx], y[batch_idx]"
      ],
      "metadata": {
        "id": "PEIgoqISHm2T"
      },
      "execution_count": 10,
      "outputs": []
    },
    {
      "cell_type": "markdown",
      "source": [
        "##4. Build Core Components of MLP"
      ],
      "metadata": {
        "id": "hED0xHOzIMnt"
      }
    },
    {
      "cell_type": "markdown",
      "source": [
        "###A. Linear Layer (Fully Connected Layer)"
      ],
      "metadata": {
        "id": "m5Mb-7D2KSeU"
      }
    },
    {
      "cell_type": "code",
      "source": [
        "# We are going to\n",
        "  # Initialize weight with small random values\n",
        "  # Initialize bias with zeros\n",
        "  # Initialize grad_weight with zeros. Same shape as weight\n",
        "  # Initialize grad_bias with zeros. Same shape as bias\n",
        "  # Implement forward()\n",
        "\n",
        "class Linear:\n",
        "    def __init__(self, in_features, out_features):\n",
        "        # Initialize weight to small random values (normally distributed)\n",
        "        self.weight = np.random.randn(in_features, out_features) * 0.01\n",
        "\n",
        "        # Initialize bias to zeros\n",
        "        self.bias = np.zeros((1, out_features))\n",
        "\n",
        "        # Initialize gradients for weight and bias to zeros\n",
        "        self.grad_weight = np.zeros_like(self.weight)\n",
        "        self.grad_bias = np.zeros_like(self.bias)\n",
        "\n",
        "    def __call__(self, x):\n",
        "        return self.forward(x)\n",
        "\n",
        "    def forward(self, x):\n",
        "        self.input = x  # Keep input for backward pass\n",
        "        output = np.dot(x, self.weight) + self.bias  # Linear transformation\n",
        "        return output\n",
        "\n",
        "    def backward(self, grad_output):\n",
        "        # Compute the gradient of the input\n",
        "        grad_input = np.dot(grad_output, self.weight.T)\n",
        "\n",
        "        # Compute gradients for weight and bias\n",
        "        self.grad_weight[...] = np.dot(self.input.T, grad_output)  # Weight gradient\n",
        "        self.grad_bias[...] = np.mean(grad_output, axis=0, keepdims=True)  # Bias gradient\n",
        "\n",
        "        return grad_input\n",
        "\n",
        "    def parameters(self):\n",
        "        \"\"\"Returns the parameters (weights and bias) of this layer.\"\"\"\n",
        "        return [self.weight, self.bias]\n",
        "\n",
        "    def gradients(self):\n",
        "        \"\"\"Returns the gradients (weight and bias gradients) of this layer.\"\"\"\n",
        "        return [self.grad_weight, self.grad_bias]\n"
      ],
      "metadata": {
        "id": "d1Qam9asIP8H"
      },
      "execution_count": 12,
      "outputs": []
    },
    {
      "cell_type": "markdown",
      "source": [
        "###B. Sigmoid Activation Function"
      ],
      "metadata": {
        "id": "ZGjzutLmKYWT"
      }
    },
    {
      "cell_type": "code",
      "source": [
        "#we are going to Implement the sigmoid function in forward\n",
        "class Sigmoid:\n",
        "    def __call__(self, x):\n",
        "        return self.forward(x)\n",
        "\n",
        "    def forward(self, x):\n",
        "        # Compute the sigmoid function\n",
        "        self.output = 1 / (1 + np.exp(-x))\n",
        "        return self.output\n",
        "\n",
        "    def backward(self, grad_output):\n",
        "        # Use the stored output from the forward pass to compute the gradient\n",
        "        return grad_output * self.output * (1 - self.output)"
      ],
      "metadata": {
        "id": "phjy4NdwKa5L"
      },
      "execution_count": 13,
      "outputs": []
    },
    {
      "cell_type": "markdown",
      "source": [
        "###C. Mean Squared Error Loss (MSELoss)"
      ],
      "metadata": {
        "id": "9vG68laSLHwC"
      }
    },
    {
      "cell_type": "code",
      "source": [
        "class MSELoss:\n",
        "    def __call__(self, pred, target):\n",
        "        return self.forward(pred, target)\n",
        "\n",
        "    def forward(self, pred, target):\n",
        "        self.pred = pred  # Save for backward\n",
        "        self.target = target  # Save for backward\n",
        "        error = np.mean((pred - target) ** 2)  # Mean squared error\n",
        "        return error\n",
        "\n",
        "    def backward(self):\n",
        "        # Derivative of MSE w.r.t. predictions\n",
        "        return 2. * (self.pred - self.target) / self.target.shape[0]"
      ],
      "metadata": {
        "id": "aO9aHeBULJ4c"
      },
      "execution_count": 14,
      "outputs": []
    },
    {
      "cell_type": "markdown",
      "source": [
        "##5. Gradient Descent Optimizer\n"
      ],
      "metadata": {
        "id": "uN4Av6kNLWrB"
      }
    },
    {
      "cell_type": "code",
      "source": [
        "# This SGD class performs parameter updates using gradients computed during backpropagation.\n",
        "class SGD:\n",
        "    def __init__(self, params, grads, lr=0.1):\n",
        "        self.params = params\n",
        "        self.grads = grads\n",
        "        self.lr = lr\n",
        "\n",
        "    def step(self):\n",
        "        \"\"\"Update the parameters (weight and bias) of your netork using the Gradient Descent algorithm.\"\"\"\n",
        "        for p, g in zip(self.params, self.grads):\n",
        "            p -= self.lr * g # gradient descent\n",
        "\n",
        "    def zero_grad(self):\n",
        "        \"\"\"Zeros out the gradient of your network\"\"\"\n",
        "        for g in self.grads:\n",
        "            g.fill(0.0)"
      ],
      "metadata": {
        "id": "p04wWGycLdL6"
      },
      "execution_count": 15,
      "outputs": []
    },
    {
      "cell_type": "markdown",
      "source": [
        "##6. Assemble the MLP\n"
      ],
      "metadata": {
        "id": "TKophSgFLoHR"
      }
    },
    {
      "cell_type": "code",
      "source": [
        "# We have an MLP with:\n",
        "\n",
        "#     Input layer: 784 neurons (28×28)\n",
        "#     Hidden layer: 50 neurons with Sigmoid activation\n",
        "#     Output layer: 10 neurons (one per digit) with Sigmoid activation\n",
        "\n",
        "# What we have todo is:\n",
        "\n",
        "#     In __init__: Create two linear layers and two activations\n",
        "#     In forward: Pass input through layers in sequence\n",
        "#     e.g. x → linear1 → sigmoid → linear2 → sigmoid\n",
        "\n",
        "class MLP:\n",
        "    def __init__(self, in_features, hidden_size, out_features):\n",
        "        # Initialize layers and activations\n",
        "        self.linear1 = Linear(in_features, hidden_size)\n",
        "        self.act1 = Sigmoid()\n",
        "        self.linear2 = Linear(hidden_size, out_features)\n",
        "        self.act2 = Sigmoid()\n",
        "\n",
        "    def __call__(self, x):\n",
        "        return self.forward(x)\n",
        "\n",
        "    def forward(self, x):\n",
        "        \"\"\"Forward propagation through your network\"\"\"\n",
        "        x = self.linear1(x)\n",
        "        x = self.act1(x)\n",
        "        x = self.linear2(x)\n",
        "        x = self.act2(x)\n",
        "        return x\n",
        "\n",
        "    def backward(self, grad_output):\n",
        "        \"\"\"Backpropagation through your network\"\"\"\n",
        "        grad_z2 = self.act2.backward(grad_output)\n",
        "        grad_a1 = self.linear2.backward(grad_z2)\n",
        "\n",
        "        grad_z1 = self.act1.backward(grad_a1)\n",
        "        _ = self.linear1.backward(grad_z1)\n",
        "\n",
        "    def parameters(self):\n",
        "        \"\"\"Return the parameters of your entire model/network\"\"\"\n",
        "        return self.linear1.parameters() + self.linear2.parameters()\n",
        "\n",
        "    def gradients(self):\n",
        "        \"\"\"Return the gradients of your entire model/network\"\"\"\n",
        "        return self.linear1.gradients() + self.linear2.gradients()\n"
      ],
      "metadata": {
        "id": "aA87XIRwLuxR"
      },
      "execution_count": 17,
      "outputs": []
    },
    {
      "cell_type": "markdown",
      "source": [
        "##7. Training and Evaluation\n"
      ],
      "metadata": {
        "id": "7SWsj1kdMFX3"
      }
    },
    {
      "cell_type": "markdown",
      "source": [
        "###A. Training Function"
      ],
      "metadata": {
        "id": "rz-rBDcDMjRZ"
      }
    },
    {
      "cell_type": "code",
      "source": [
        "# Performs forward and backward passes for each mini-batch\n",
        "# Updates weights using SGD\n",
        "\n",
        "def train(model, train_loader, optimizer, criterion):\n",
        "    total_loss = 0.0\n",
        "    num_samples = 0\n",
        "    for X_batch, y_batch in train_loader:\n",
        "        optimizer.zero_grad()\n",
        "\n",
        "        preds = model(X_batch)\n",
        "        loss = criterion(preds, int_to_onehot(y_batch))\n",
        "\n",
        "        grad_output = loss_fn.backward()\n",
        "\n",
        "        model.backward(grad_output)\n",
        "        optimizer.step()\n",
        "\n",
        "        total_loss += loss\n",
        "        num_samples += len(y_batch)\n",
        "\n",
        "    return total_loss / num_samples"
      ],
      "metadata": {
        "id": "JBXOovePMtjA"
      },
      "execution_count": 18,
      "outputs": []
    },
    {
      "cell_type": "markdown",
      "source": [
        "###B. Validation Function"
      ],
      "metadata": {
        "id": "g5A77aSZMoDz"
      }
    },
    {
      "cell_type": "code",
      "source": [
        "# Computes loss and accuracy on the validation set\n",
        "def valid(model, valid_loader, criterion):\n",
        "    total_loss = 0.0\n",
        "    correct_predictions = 0\n",
        "    total_predictions = 0\n",
        "    for X_batch, y_batch in valid_loader:\n",
        "        preds = model(X_batch)\n",
        "        loss = criterion(preds, int_to_onehot(y_batch))\n",
        "\n",
        "        total_loss += loss\n",
        "\n",
        "        predicted_labels = np.argmax(preds, axis=1)\n",
        "        correct_predictions += (predicted_labels == y_batch).sum()\n",
        "        total_predictions += len(y_batch)\n",
        "\n",
        "    total_loss /= total_predictions\n",
        "    accuracy = (correct_predictions / total_predictions)*100\n",
        "    return total_loss, accuracy"
      ],
      "metadata": {
        "id": "_cQo-IJZM-39"
      },
      "execution_count": 19,
      "outputs": []
    },
    {
      "cell_type": "markdown",
      "source": [
        "###C. Convert Targets"
      ],
      "metadata": {
        "id": "Oo_SCnhlNR9R"
      }
    },
    {
      "cell_type": "code",
      "source": [
        "def int_to_onehot(y, num_labels=10):\n",
        "      return np.eye(num_labels)[y]"
      ],
      "metadata": {
        "id": "_6b-TXPjNWKd"
      },
      "execution_count": 20,
      "outputs": []
    },
    {
      "cell_type": "markdown",
      "source": [
        "##8. Instantiate Model, Loss Function, and Optimizer"
      ],
      "metadata": {
        "id": "Yha-47zpNdlI"
      }
    },
    {
      "cell_type": "code",
      "source": [
        "# Before training, we must initialize our network and supporting components.\n",
        "in_features = 28 * 28      # Each image is 28x28 pixels\n",
        "hidden_size = 50           # Size of the hidden layer (can experiment)\n",
        "out_features = 10          # One output per digit class (0-9)\n",
        "learning_rate = 0.1        # Step size for SGD updates\n",
        "\n",
        "np.random.seed(123)        # For reproducible results\n",
        "\n",
        "model = MLP(in_features=in_features, hidden_size=hidden_size, out_features=out_features)\n",
        "loss_fn = MSELoss()\n",
        "optimizer = SGD(model.parameters(), model.gradients(), lr=learning_rate)"
      ],
      "metadata": {
        "id": "_pKIhZkpNiDH"
      },
      "execution_count": 22,
      "outputs": []
    },
    {
      "cell_type": "markdown",
      "source": [
        "##9. Run the Training Loop\n"
      ],
      "metadata": {
        "id": "C2SsM9ceN1gr"
      }
    },
    {
      "cell_type": "code",
      "source": [
        "# Now that everything is in place, we can train the MLP using mini-batch SGD:\n",
        "num_epochs = 5\n",
        "batch_size = 100\n",
        "\n",
        "for epoch in range(num_epochs):\n",
        "    # Usually in the PyTorch way, dataloader SHOULD NOT be in the epoch loop\n",
        "    train_loader = minibatch_generator(X_train, y_train, minibatch_size=batch_size)\n",
        "    valid_loader = minibatch_generator(X_valid, y_valid, minibatch_size=batch_size)\n",
        "\n",
        "    train_loss = train(model, train_loader, optimizer, criterion=loss_fn)\n",
        "    valid_loss, valid_acc = valid(model, valid_loader, criterion=loss_fn)\n",
        "\n",
        "    print(f\"Epoch: {epoch+1:02d}/{num_epochs} | Train MSE: {train_loss:.4f} | Valid MSE: {valid_loss:.4f} | Valid Acc: {valid_acc:.2f}%\")"
      ],
      "metadata": {
        "colab": {
          "base_uri": "https://localhost:8080/"
        },
        "id": "FRblyrEeN-Oc",
        "outputId": "7300cda6-51da-4981-b17b-8108427a5d34"
      },
      "execution_count": 27,
      "outputs": [
        {
          "output_type": "stream",
          "name": "stderr",
          "text": [
            "/tmp/ipython-input-13-766233039.py:8: RuntimeWarning: overflow encountered in exp\n",
            "  self.output = 1 / (1 + np.exp(-x))\n"
          ]
        },
        {
          "output_type": "stream",
          "name": "stdout",
          "text": [
            "Epoch: 01/5 | Train MSE: 0.0002 | Valid MSE: 0.0002 | Valid Acc: 90.92%\n",
            "Epoch: 02/5 | Train MSE: 0.0002 | Valid MSE: 0.0001 | Valid Acc: 91.18%\n",
            "Epoch: 03/5 | Train MSE: 0.0001 | Valid MSE: 0.0001 | Valid Acc: 91.80%\n",
            "Epoch: 04/5 | Train MSE: 0.0001 | Valid MSE: 0.0001 | Valid Acc: 91.24%\n",
            "Epoch: 05/5 | Train MSE: 0.0001 | Valid MSE: 0.0001 | Valid Acc: 91.16%\n"
          ]
        }
      ]
    },
    {
      "cell_type": "markdown",
      "source": [
        "##10. Final Evaluation on Test Set"
      ],
      "metadata": {
        "id": "3RcrEWpQOghN"
      }
    },
    {
      "cell_type": "code",
      "source": [
        "# We are going to measure final generalization accuracy using:\n",
        "def test(model, test_loader):\n",
        "    correct_predictions = 0\n",
        "    total_predictions = 0\n",
        "    for X_batch, y_batch in test_loader:\n",
        "        preds = model(X_batch)\n",
        "\n",
        "        predicted_labels = np.argmax(preds, axis=1)\n",
        "        correct_predictions += (predicted_labels == y_batch).sum()\n",
        "        total_predictions += len(y_batch)\n",
        "\n",
        "    accuracy = (correct_predictions / total_predictions)*100\n",
        "    return accuracy\n",
        "\n",
        "\n",
        "test_loader = minibatch_generator(X_test, y_test, minibatch_size=100)\n",
        "test_acc = test(model, test_loader)\n",
        "print(f'Test accuracy: {test_acc:.2f}%')"
      ],
      "metadata": {
        "colab": {
          "base_uri": "https://localhost:8080/"
        },
        "id": "rHNtJdIAOhwT",
        "outputId": "ea7131f5-35bd-4034-f44e-a93e7ae27ec1"
      },
      "execution_count": 28,
      "outputs": [
        {
          "output_type": "stream",
          "name": "stderr",
          "text": [
            "/tmp/ipython-input-13-766233039.py:8: RuntimeWarning: overflow encountered in exp\n",
            "  self.output = 1 / (1 + np.exp(-x))\n"
          ]
        },
        {
          "output_type": "stream",
          "name": "stdout",
          "text": [
            "Test accuracy: 90.62%\n"
          ]
        }
      ]
    }
  ]
}